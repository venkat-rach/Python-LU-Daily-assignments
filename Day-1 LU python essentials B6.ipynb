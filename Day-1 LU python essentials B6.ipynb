{
 "cells": [
  {
   "cell_type": "raw",
   "metadata": {},
   "source": [
    "1. what is Python ? What are the ways to install python in your PC ?\n",
    "\n",
    "Python is an interpreted, high-lelve, general purpose programming language.\n",
    "\n",
    "In python we can do 100 lines of code into 10 to 15 lines. It has concise code, Rich Libraries to perform any activity very easily.It is object oriented and open source.\n",
    "\n",
    "We can install python in our PC (Linux / windows /Mac). We can download python from www.python.org for windows we have to choose either 32 bit or 64 bit and click on download and run the exe file.\n",
    "Path will be set automatically in our machine.\n",
    "\n",
    "Also we can use python by downloading the Anaconda which includes python. \n",
    "\n",
    "2. What are Code Environments ? Types ?\n",
    "\n",
    "It is standalone and self-contained environment to run python or any other code. \n",
    "In simple manner, it is a place where software developers can write code, buid and automate. \n",
    "\n",
    "There are 3 main types of environments\n",
    "\n",
    "Text Editors\n",
    "Full IDEs\n",
    "Notebook Environments"
   ]
  }
 ],
 "metadata": {
  "kernelspec": {
   "display_name": "Python 3",
   "language": "python",
   "name": "python3"
  },
  "language_info": {
   "codemirror_mode": {
    "name": "ipython",
    "version": 3
   },
   "file_extension": ".py",
   "mimetype": "text/x-python",
   "name": "python",
   "nbconvert_exporter": "python",
   "pygments_lexer": "ipython3",
   "version": "3.7.6"
  }
 },
 "nbformat": 4,
 "nbformat_minor": 4
}
