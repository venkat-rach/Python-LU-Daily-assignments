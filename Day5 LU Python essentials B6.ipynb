{
 "cells": [
  {
   "cell_type": "code",
   "execution_count": 4,
   "metadata": {},
   "outputs": [
    {
     "name": "stdout",
     "output_type": "stream",
     "text": [
      "Final result : [1, 1, 2, 2, 3, 4, 4, 10, 56, 56, 0, 0, 0, 0, 0]\n"
     ]
    }
   ],
   "source": [
    "#Assignment 1\n",
    "#[0,1,2,10,4,0,56,2,0,1,3,0,56,0,4]\n",
    "#sort above list by increasing order but all zeros should be at the right hand side\n",
    "\n",
    "list3=[0,1,2,10,4,0,56,2,0,1,3,0,56,0,4]\n",
    "list4=[]\n",
    "list5=[]\n",
    "for each in list3:\n",
    "    if each==0:\n",
    "        list4.append(each)\n",
    "    else:\n",
    "        list5.append(each)\n",
    "list5.sort()\n",
    "print(\"Final result :\",list5+list4)"
   ]
  },
  {
   "cell_type": "code",
   "execution_count": 6,
   "metadata": {},
   "outputs": [
    {
     "name": "stdout",
     "output_type": "stream",
     "text": [
      "Final output: [5, 15, 25, 35, 45, 60, 10, 20, 40, 60, 70, 80]\n"
     ]
    }
   ],
   "source": [
    "#Assignement 2\n",
    "#merge these below two sorted lists to produce one sorted list, but use only one loop either while or for only one time\n",
    "\n",
    "list1=[10,20,40,60,70,80]\n",
    "list2=[5,15,25,35,45,60]\n",
    "for i in list1:\n",
    "        list2.append(i)\n",
    "print(\"Final output:\",list2)\n",
    "\n"
   ]
  },
  {
   "cell_type": "code",
   "execution_count": null,
   "metadata": {},
   "outputs": [],
   "source": []
  }
 ],
 "metadata": {
  "kernelspec": {
   "display_name": "Python 3",
   "language": "python",
   "name": "python3"
  },
  "language_info": {
   "codemirror_mode": {
    "name": "ipython",
    "version": 3
   },
   "file_extension": ".py",
   "mimetype": "text/x-python",
   "name": "python",
   "nbconvert_exporter": "python",
   "pygments_lexer": "ipython3",
   "version": "3.7.6"
  }
 },
 "nbformat": 4,
 "nbformat_minor": 4
}
