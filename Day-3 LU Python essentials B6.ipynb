{
 "cells": [
  {
   "cell_type": "code",
   "execution_count": 1,
   "metadata": {},
   "outputs": [
    {
     "name": "stdout",
     "output_type": "stream",
     "text": [
      "Enter n value5\n",
      "Final sum is 15\n"
     ]
    }
   ],
   "source": [
    "#1. Find sum of n numbers with help of while loop\n",
    "\n",
    "n = int(input(\"Enter n value\"))\n",
    "sum1 = 0\n",
    "x = 1\n",
    "while x <=n:\n",
    "    sum1 = sum1 + x\n",
    "    x = x +1\n",
    "print(f\"Final sum is {sum1}\")"
   ]
  },
  {
   "cell_type": "code",
   "execution_count": 2,
   "metadata": {},
   "outputs": [
    {
     "name": "stdout",
     "output_type": "stream",
     "text": [
      "Enter the value17\n",
      "17 is a prime number\n"
     ]
    }
   ],
   "source": [
    "#2. Take a integer and find whether the number is prime or not \n",
    "\n",
    "n= int(input(\"Enter the value\"))\n",
    "if n>1:\n",
    "    for i in range (2, n):\n",
    "        if (n % i) == 0:\n",
    "            print (n, \"is not a prime number\")\n",
    "            break\n",
    "    else:\n",
    "        print(n, \"is a prime number\")\n",
    "else:\n",
    "        print(n, \"is not a prime number\")"
   ]
  },
  {
   "cell_type": "code",
   "execution_count": null,
   "metadata": {},
   "outputs": [],
   "source": []
  }
 ],
 "metadata": {
  "kernelspec": {
   "display_name": "Python 3",
   "language": "python",
   "name": "python3"
  },
  "language_info": {
   "codemirror_mode": {
    "name": "ipython",
    "version": 3
   },
   "file_extension": ".py",
   "mimetype": "text/x-python",
   "name": "python",
   "nbconvert_exporter": "python",
   "pygments_lexer": "ipython3",
   "version": "3.7.6"
  }
 },
 "nbformat": 4,
 "nbformat_minor": 4
}
