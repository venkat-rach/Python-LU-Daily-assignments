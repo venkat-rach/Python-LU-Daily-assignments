{
 "cells": [
  {
   "cell_type": "raw",
   "metadata": {},
   "source": [
    "Q1 : What we have seen in today's seesion\n",
    "\n",
    "1)Basic python syntaxes \n",
    "\n",
    "Back slash\n",
    "Triple quotes\n",
    "String inside quotes\n",
    "Escapre sequence of string\n",
    "formatted output\n",
    "\n",
    "2)Python variables and assignement statements\n",
    "Rules to define variables\n",
    "\n",
    "3)Python operators:\n",
    "\n",
    "Arithmetic operators\n",
    "Comparison operators\n",
    "Assignment operators\n",
    "Bitwise operators\n",
    "Logical operators\n",
    "Membership operators\n",
    "Identity operators\n",
    "Operator precedence\n",
    "\n"
   ]
  }
 ],
 "metadata": {
  "kernelspec": {
   "display_name": "Python 3",
   "language": "python",
   "name": "python3"
  },
  "language_info": {
   "codemirror_mode": {
    "name": "ipython",
    "version": 3
   },
   "file_extension": ".py",
   "mimetype": "text/x-python",
   "name": "python",
   "nbconvert_exporter": "python",
   "pygments_lexer": "ipython3",
   "version": "3.7.6"
  }
 },
 "nbformat": 4,
 "nbformat_minor": 4
}
