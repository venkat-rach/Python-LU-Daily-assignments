{
 "cells": [
  {
   "cell_type": "code",
   "execution_count": 1,
   "metadata": {},
   "outputs": [
    {
     "name": "stdout",
     "output_type": "stream",
     "text": [
      "Final result after swap: {'FTP': 21, 'SSH': 22, 'telnet': 23, 'http': 80}\n"
     ]
    }
   ],
   "source": [
    "'''\n",
    "Day 7 Assignment 1\n",
    "Use the port1={21: \"FTP\", 22: \"SSH\", 23: \"telnet\", 80: \"http\"}\n",
    "And make a new directory in which keys become values and values becom keys\n",
    "as shown : port2 ={\"FTP\":21,\"SSH\":22,\"telnet\":23,\"http\":80}\n",
    "'''\n",
    "\n",
    "port1={21: \"FTP\", 22: \"SSH\", 23: \"telnet\", 80: \"http\"}\n",
    "port2 =dict([(value,key) for key, value in port1.items()])\n",
    "print(\"Final result after swap:\" ,port2)"
   ]
  },
  {
   "cell_type": "code",
   "execution_count": 2,
   "metadata": {},
   "outputs": [
    {
     "name": "stdout",
     "output_type": "stream",
     "text": [
      "[3, 7, 11, 9]\n"
     ]
    }
   ],
   "source": [
    "''' Assignment 2\n",
    "Take a list of tuple as shown\n",
    "  [(1,2), (3,4), (5,6),(4,5)]\n",
    "Make a new list which contains the sum of number of tuples output like : [3,7,11]\n",
    "'''\n",
    "list1= [(1,2), (3,4), (5,6),(4,5)]   #List of tuples\n",
    "result =[]                           #Reslut list storage\n",
    "for each in list1:                   \n",
    "    sum1=0;\n",
    "    for j in each:\n",
    "        sum1 =sum1+ j\n",
    "    result.append(sum1)\n",
    "\n",
    "print(result)\n"
   ]
  },
  {
   "cell_type": "code",
   "execution_count": null,
   "metadata": {},
   "outputs": [],
   "source": []
  }
 ],
 "metadata": {
  "kernelspec": {
   "display_name": "Python 3",
   "language": "python",
   "name": "python3"
  },
  "language_info": {
   "codemirror_mode": {
    "name": "ipython",
    "version": 3
   },
   "file_extension": ".py",
   "mimetype": "text/x-python",
   "name": "python",
   "nbconvert_exporter": "python",
   "pygments_lexer": "ipython3",
   "version": "3.7.6"
  }
 },
 "nbformat": 4,
 "nbformat_minor": 4
}
